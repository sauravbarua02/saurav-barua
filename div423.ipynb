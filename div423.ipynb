{
 "cells": [
  {
   "cell_type": "code",
   "execution_count": 2,
   "metadata": {},
   "outputs": [
    {
     "name": "stdout",
     "output_type": "stream",
     "text": [
      "Enter Dividend number = 5\n",
      "Enter Divisor number = 3\n",
      "quotient =  1\n",
      "remainder =  2\n",
      " 5 to the power  3 = 125\n"
     ]
    }
   ],
   "source": [
    "#Program to calculate quotient,remainder and power from input of dividen and divisor integer numbers\n",
    "#Input of two numbers\n",
    "a = input('Enter Dividend number = ')\n",
    "b = input('Enter Divisor number = ')\n",
    "#Calculate quotient \n",
    "c = int(a)//int(b)\n",
    "#Calculate remainder \n",
    "d = int(a)%int(b)\n",
    "#Calculate power\n",
    "e = int(a)**int(b)\n",
    "#print results\n",
    "print('quotient = ',c)\n",
    "print('remainder = ',d)\n",
    "print('',a,'to the power','',b,'=',e)"
   ]
  },
  {
   "cell_type": "code",
   "execution_count": null,
   "metadata": {},
   "outputs": [],
   "source": []
  }
 ],
 "metadata": {
  "kernelspec": {
   "display_name": "Python 3",
   "language": "python",
   "name": "python3"
  },
  "language_info": {
   "codemirror_mode": {
    "name": "ipython",
    "version": 3
   },
   "file_extension": ".py",
   "mimetype": "text/x-python",
   "name": "python",
   "nbconvert_exporter": "python",
   "pygments_lexer": "ipython3",
   "version": "3.7.1"
  }
 },
 "nbformat": 4,
 "nbformat_minor": 2
}
