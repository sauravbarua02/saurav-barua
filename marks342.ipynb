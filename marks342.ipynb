{
 "cells": [
  {
   "cell_type": "code",
   "execution_count": 12,
   "metadata": {},
   "outputs": [
    {
     "name": "stdout",
     "output_type": "stream",
     "text": [
      "enter name =pavel\n",
      "['adam', 'gill', 'jimmy']\n",
      "The person is not within the list\n",
      "Enter grade = 67\n",
      "His grade =  C\n"
     ]
    }
   ],
   "source": [
    "#program to identify student name and calculate grade of a student using if,else, elifstatement\n",
    "#written by Saurav Barua, Assistant Professor, Department of Civil Engineering,\n",
    "#Daffodil International University, Bangladesh\n",
    "#name of students in array\n",
    "name = input('enter name =')\n",
    "students = ['adam', 'gill', 'jimmy']\n",
    "print(students)\n",
    "if name in students:\n",
    "    print('The person is within class')\n",
    "else:\n",
    "    print('The person is not within the list')\n",
    "#marks and grade of the student\n",
    "marks = input('Enter grade = ')\n",
    "marks = int(marks)\n",
    "if marks>=80:\n",
    "    grade = 'A'\n",
    "elif marks>=70:\n",
    "    grade = 'B'\n",
    "elif marks>=60:\n",
    "    grade = 'C'\n",
    "else:\n",
    "   grade = 'F'\n",
    "print('His grade = ',grade)\n",
    "\n",
    "\n"
   ]
  },
  {
   "cell_type": "code",
   "execution_count": null,
   "metadata": {},
   "outputs": [],
   "source": []
  }
 ],
 "metadata": {
  "kernelspec": {
   "display_name": "Python 3",
   "language": "python",
   "name": "python3"
  },
  "language_info": {
   "codemirror_mode": {
    "name": "ipython",
    "version": 3
   },
   "file_extension": ".py",
   "mimetype": "text/x-python",
   "name": "python",
   "nbconvert_exporter": "python",
   "pygments_lexer": "ipython3",
   "version": "3.7.1"
  }
 },
 "nbformat": 4,
 "nbformat_minor": 2
}
